{
 "cells": [
  {
   "cell_type": "code",
   "execution_count": null,
   "metadata": {},
   "outputs": [],
   "source": [
    "### Compute roughness based on a digital terrain model ###\n",
    "\n",
    "library(raster)\n",
    "library(rgdal)\n",
    "library(SDMTools)\n",
    "\n",
    "# preprocess JAXA ALOS\n",
    "# Use the \"AVERAGE\" data\n",
    "dtm_files <- list.files('', pattern = 'DSM.tif$', full.names = T)\n",
    "dtm_list <- c()\n",
    "for(file in dtm_files) {\n",
    "  temp <- raster(file)\n",
    "  dtm_list <- append(dtm_list, temp)\n",
    "}\n",
    "rm(dtm_files, file, temp)\n",
    "\n",
    "# Studyarea\n",
    "sa <- readOGR('')\n",
    "\n",
    "dtm_list.mosaicargs <- dtm_list\n",
    "dtm_list.mosaicargs$fun <- mean\n",
    "dtm_mos <- do.call(mosaic, dtm_list.mosaicargs)\n",
    "\n",
    "dtm_mos <- projectRaster(dtm_mos, crs = sa@proj4string)\n",
    "dtm <- crop(dtm_mos, sa)\n",
    "rm(dtm_list, dtm_list.mosaicargs, dtm_mos)\n",
    "\n",
    "# writeRaster(dtm, '', format = 'GTiff', overwrite = T)\n",
    "\n",
    "m <- matrix(1, nrow = 3, ncol = 3)\n",
    "\n",
    "# method 3 from http://gis4geomorphology.com/roughness-topographic-position/\n",
    "dtm_mean <- focal(dtm, m, fun = mean)\n",
    "dtm_min <- focal(dtm, m, fun = min)\n",
    "dtm_max <- focal(dtm, m, fun = max)\n",
    "dtm_range <- dtm_max - dtm_min\n",
    "\n",
    "dtm_sd <- overlay(dtm, dtm_mean, dtm_range, m, fun = function(original, mean, range) {(mean - original)/range})\n",
    "#writeRaster(dtm_sd, '', format = 'GTiff', overwrite = T)\n",
    "rm(dtm_max, dtm_min, dtm_mean, dtm_range)\n",
    "dtm_sd2 <- focal(dtm_sd, m, fun = sd)\n",
    "writeRaster(dtm_sd2, '', format = 'GTiff', overwrite = T)"
   ]
  },
  {
   "cell_type": "code",
   "execution_count": null,
   "metadata": {},
   "outputs": [],
   "source": [
    "### Average roughness per cell ###\n",
    "\n",
    "library(raster)\n",
    "library(rgdal)\n",
    "\n",
    "grid <- readOGR('')\n",
    "\n",
    "# Roughness index\n",
    "rough <- raster('')\n",
    "\n",
    "grid_r <- extract(rough, grid, method = 'bilinear', fun = mean, na.rm = T, sp = T)\n",
    "names(grid500_r) <- c('FID', 'roughind')\n",
    "writeOGR(grid500_r, dsn = '', layer = '', driver = 'ESRI Shapefile', overwrite_layer = T)"
   ]
  }
 ],
 "metadata": {
  "kernelspec": {
   "display_name": "R",
   "language": "R",
   "name": "ir"
  },
  "language_info": {
   "codemirror_mode": "r",
   "file_extension": ".r",
   "mimetype": "text/x-r-source",
   "name": "R",
   "pygments_lexer": "r",
   "version": "3.4.3"
  }
 },
 "nbformat": 4,
 "nbformat_minor": 2
}
