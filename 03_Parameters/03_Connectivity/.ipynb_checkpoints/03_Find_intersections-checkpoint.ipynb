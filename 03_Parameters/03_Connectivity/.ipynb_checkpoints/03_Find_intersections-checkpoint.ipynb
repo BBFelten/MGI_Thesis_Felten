{
 "cells": [
  {
   "cell_type": "code",
   "execution_count": null,
   "metadata": {},
   "outputs": [],
   "source": [
    "### Identify likely intersections and export them as a multipolygon ###\n",
    "\n",
    "library(raster)\n",
    "library(rgdal)\n",
    "library(rgeos)\n",
    "\n",
    "# The road skeleton created with script 02_Skeletonize\n",
    "myroads <- raster('')\n",
    "\n",
    "m = matrix(data = 1, nrow = 3, ncol = 3)\n",
    "\n",
    "myroads_sum <- focal(myroads, m, fun = sum)\n",
    "likely_is <- myroads_sum\n",
    "likely_is[likely_is < 5] <- NA\n",
    "likely_is[likely_is >= 5] <- 1\n",
    "\n",
    "is_poly <- rasterToPolygons(likely_is, na.rm = T, dissolve = T)\n",
    "writeOGR(is_poly, dsn = '', layer = '', driver = 'ESRI Shapefile', overwrite_layer = T)"
   ]
  }
 ],
 "metadata": {
  "kernelspec": {
   "display_name": "R",
   "language": "R",
   "name": "ir"
  },
  "language_info": {
   "codemirror_mode": "r",
   "file_extension": ".r",
   "mimetype": "text/x-r-source",
   "name": "R",
   "pygments_lexer": "r",
   "version": "3.4.3"
  }
 },
 "nbformat": 4,
 "nbformat_minor": 2
}
