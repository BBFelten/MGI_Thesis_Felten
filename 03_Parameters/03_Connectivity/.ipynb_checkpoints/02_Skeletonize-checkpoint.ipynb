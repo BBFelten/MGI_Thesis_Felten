{
 "cells": [
  {
   "cell_type": "code",
   "execution_count": null,
   "metadata": {},
   "outputs": [],
   "source": [
    "### Reduce road network to centerlines ###\n",
    "### First, rasterize the road subset, e.g. in QGIS ###\n",
    "\n",
    "from skimage.morphology import skeletonize\n",
    "from skimage.util import invert\n",
    "import gdal\n",
    "\n",
    "# The road raster file (.tif)\n",
    "datapath = ''\n",
    "\n",
    "data = gdal.Open(datapath)\n",
    "driver = gdal.GetDriverByName('GTiff')\n",
    "x_size = data.RasterXSize  \n",
    "y_size = data.RasterYSize \n",
    "geotrans = data.GetGeoTransform()  \n",
    "proj = data.GetProjection() \n",
    "\n",
    "band = data.GetRasterBand(1)\n",
    "# Set the output path here\n",
    "bandname = ''\n",
    "band_arr = band.ReadAsArray()\n",
    "band_arr = band_arr.astype(int)\n",
    "# Do this if other values than 0 and 1 are present in the image. The background (all non-road classes) should be 0.\n",
    "band_arr[band_arr > 1] = 1\n",
    "\n",
    "# Invert the image\n",
    "image = invert(band_arr)\n",
    "\n",
    "# perform skeletonization\n",
    "skeleton = skeletonize(band_arr)\n",
    "\n",
    "band_arr = band.ReadAsArray()\n",
    "dataset = driver.Create(bandname, x_size, y_size, 1, gdal.GDT_Float32)\n",
    "dataset.GetRasterBand(1).SetNoDataValue(float('nan'))\n",
    "dataset.SetGeoTransform(geotrans)\n",
    "dataset.SetProjection(proj)\n",
    "dataset.GetRasterBand(1).WriteArray(skeleton)\n",
    "dataset.FlushCache()\n",
    "dataset = None"
   ]
  }
 ],
 "metadata": {
  "kernelspec": {
   "display_name": "Python 3",
   "language": "python",
   "name": "python3"
  },
  "language_info": {
   "codemirror_mode": {
    "name": "ipython",
    "version": 3
   },
   "file_extension": ".py",
   "mimetype": "text/x-python",
   "name": "python",
   "nbconvert_exporter": "python",
   "pygments_lexer": "ipython3",
   "version": "3.6.4"
  }
 },
 "nbformat": 4,
 "nbformat_minor": 2
}
