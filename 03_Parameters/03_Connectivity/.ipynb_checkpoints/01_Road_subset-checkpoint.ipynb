{
 "cells": [
  {
   "cell_type": "code",
   "execution_count": null,
   "metadata": {},
   "outputs": [],
   "source": [
    "### Select only the roads from classification result ###\n",
    "### Fill small holes in road polygons ###\n",
    "\n",
    "import fiona\n",
    "from shapely.geometry import shape, Polygon\n",
    "\n",
    "# Open classification result; add path to '.shp'\n",
    "with fiona.collection('.shp', 'r') as infile:    \n",
    "    polygons = (elem for elem in infile)\n",
    "    meta = infile.meta\n",
    "    # Create output shapefile; add path to '.shp'\n",
    "    with fiona.collection('.shp', 'w', **meta) as dst:\n",
    "        c = 0\n",
    "        for poly in polygons:\n",
    "            c = c + 1\n",
    "            # Adapt according to attribute name and attribute that describes the road class\n",
    "            if poly['properties']['predicted'] == 2:\n",
    "                myroad = shape(poly['geometry'])\n",
    "                newcoords = []\n",
    "                for coord in poly['geometry']['coordinates']:\n",
    "                    # Choose only inner polygons larger than 500m²\n",
    "                    if Polygon(coord).area >= 500:\n",
    "                        newcoords.append(coord)                \n",
    "                res = {}\n",
    "                res['properties'] = poly['properties']\n",
    "                res['geometry'] = poly['geometry']\n",
    "                res['geometry']['coordinates'] = newcoords\n",
    "                dst.write(res)\n",
    "                print('added polygon ' + str(c) + ' of ' + str(len(infile)))"
   ]
  }
 ],
 "metadata": {
  "kernelspec": {
   "display_name": "Python 3",
   "language": "python",
   "name": "python3"
  },
  "language_info": {
   "codemirror_mode": {
    "name": "ipython",
    "version": 3
   },
   "file_extension": ".py",
   "mimetype": "text/x-python",
   "name": "python",
   "nbconvert_exporter": "python",
   "pygments_lexer": "ipython3",
   "version": "3.6.4"
  }
 },
 "nbformat": 4,
 "nbformat_minor": 2
}
