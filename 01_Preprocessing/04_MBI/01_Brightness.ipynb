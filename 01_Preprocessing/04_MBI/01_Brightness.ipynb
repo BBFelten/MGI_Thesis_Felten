{
 "cells": [
  {
   "cell_type": "code",
   "execution_count": null,
   "metadata": {},
   "outputs": [],
   "source": [
    "### Compute the brightness of input data as the maximum from the visible spectrum. ###\n",
    "\n",
    "library(raster)\n",
    "\n",
    "# Any pre-processed remote sensing data\n",
    "indata <- stack('')\n",
    "\n",
    "# Adapt to match the bands in the visible spectrum (red, green, blue)\n",
    "brightness <- overlay(indata[[1]], indata[[2]], indata[[3]], fun = max)\n",
    "writeRaster(brightness, '', format = 'GTiff', overwrite = T)"
   ]
  }
 ],
 "metadata": {
  "kernelspec": {
   "display_name": "R",
   "language": "R",
   "name": "ir"
  },
  "language_info": {
   "codemirror_mode": "r",
   "file_extension": ".r",
   "mimetype": "text/x-r-source",
   "name": "R",
   "pygments_lexer": "r",
   "version": "3.4.3"
  }
 },
 "nbformat": 4,
 "nbformat_minor": 2
}
