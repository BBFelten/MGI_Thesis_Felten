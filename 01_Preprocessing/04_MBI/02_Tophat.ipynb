{
 "cells": [
  {
   "cell_type": "code",
   "execution_count": null,
   "metadata": {},
   "outputs": [],
   "source": [
    "### Black and white tophat operations to highlight relatively small bright areas (mainly buildings) or dark areas ###\n",
    "### (mainly smaller roads between buildings) ###\n",
    "### Use brightness index as input ###\n",
    "\n",
    "import gdal\n",
    "from skimage.morphology import disk\n",
    "from skimage.morphology import white_tophat\n",
    "from skimage.morphology import black_tophat\n",
    "\n",
    "# Brightness index\n",
    "myimg = gdal.Open('')\n",
    "driver = gdal.GetDriverByName('GTiff')\n",
    "x_size = myimg.RasterXSize  \n",
    "y_size = myimg.RasterYSize \n",
    "geotrans = myimg.GetGeoTransform()  \n",
    "proj = myimg.GetProjection() \n",
    "\n",
    "band = myimg.GetRasterBand(1)\n",
    "band_arr = band.ReadAsArray()\n",
    "# Do this if data consists of reflectance values to get a meaningful array of integers\n",
    "#band_arr = band_arr * 10000\n",
    "band_arr = band_arr.astype('uint16')\n",
    "\n",
    "# Adapt disk size to spatial resolution of input and size of the objects of interest.\n",
    "# Buildings / roads, PlanetScope 2: Size 8\n",
    "# Buildings / roads, Sentinel 2: Size 2\n",
    "# I used half the sizes for the black tophat transform.\n",
    "selem = disk(8)\n",
    "\n",
    "th = white_tophat(band_arr, selem)\n",
    "bh = black_tophat(band_arr, selem)\n",
    "\n",
    "dataset = driver.Create('', x_size, y_size, 1, gdal.GDT_Float32)\n",
    "dataset.GetRasterBand(1).SetNoDataValue(float('nan'))\n",
    "dataset.SetGeoTransform(geotrans)\n",
    "dataset.SetProjection(proj)\n",
    "dataset.GetRasterBand(1).WriteArray(th)\n",
    "dataset.FlushCache()\n",
    "dataset = None\n",
    "\n",
    "dataset = driver.Create('', x_size, y_size, 1, gdal.GDT_Float32)\n",
    "dataset.GetRasterBand(1).SetNoDataValue(float('nan'))\n",
    "dataset.SetGeoTransform(geotrans)\n",
    "dataset.SetProjection(proj)\n",
    "dataset.GetRasterBand(1).WriteArray(bh)\n",
    "dataset.FlushCache()\n",
    "dataset = None"
   ]
  }
 ],
 "metadata": {
  "kernelspec": {
   "display_name": "Python 3",
   "language": "python",
   "name": "python3"
  },
  "language_info": {
   "codemirror_mode": {
    "name": "ipython",
    "version": 3
   },
   "file_extension": ".py",
   "mimetype": "text/x-python",
   "name": "python",
   "nbconvert_exporter": "python",
   "pygments_lexer": "ipython3",
   "version": "3.6.4"
  }
 },
 "nbformat": 4,
 "nbformat_minor": 2
}
