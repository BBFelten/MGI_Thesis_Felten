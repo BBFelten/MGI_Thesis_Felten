{
 "cells": [
  {
   "cell_type": "markdown",
   "metadata": {},
   "source": [
    "# Pre-processing of Sentinel 2 data\n",
    "Download Sentinel 2 scenes from the ESA Open Access Hub. Open them in SNAP. Apply sen2cor atmospheric correction and the super resolution tool (http://nicolas.brodu.net/recherche/superres/). Add the coordinates of the area of interest to reduce processing time. If the area of interest is not cloud free, create cloudmasks with IDEPIX in SNAP, create a mask band with the band mask tool and the following expression: ``$3.IDEPIX_CLOUD or $3.IDEPIX_CLOUD_AMBIGUOUS or $3.IDEPIX_CLOUD_SURE or $3.IDEPIX_CLOUD_BUFFER or $3.IDEPIX_CLOUD_SHADOW or $3.IDEPIX_CIRRUS_SURE or $3.IDEPIX_CIRRUS_AMBIGUOUS``. Then, export the mask band as Geotiff using the acquisition date and the extension '_mask' as a file name and apply the following script."
   ]
  },
  {
   "cell_type": "code",
   "execution_count": null,
   "metadata": {},
   "outputs": [],
   "source": [
    "### Apply IDEPIX cloudmasks to Sentinel 2 images and stitch the resulting images ###\n",
    "\n",
    "library(raster)\n",
    "library(rgdal)\n",
    "\n",
    "# folder with pre-processed Sentinel 2 files \n",
    "sent <- list.files('', pattern ='*[0-9].tif$', full.names = T, recursive = F)\n",
    "# folder with IDEPIX cloudmasks\n",
    "masks <- list.files('', pattern ='*_mask.tif$', full.names = T, recursive = F)\n",
    "\n",
    "# list of dates as they appear in Sentinel 2 standard file names\n",
    "dates <- c()\n",
    "for(m in masks) {\n",
    "  datelist <- strsplit(strsplit(m, split ='*_mask.tif$')[[1]], split = '/')[[1]]\n",
    "  datemask <- datelist[[length(datelist)]]\n",
    "  dates <- append(dates, datemask)\n",
    "}\n",
    "rm(datelist, datemask, m)\n",
    "\n",
    "no_cs <- c()\n",
    "counter <- 0\n",
    "for(date in dates) {\n",
    "  # folder with pre-processed Sentinel 2 files \n",
    "  # check that only one file fits the pattern in this folder\n",
    "  data <- stack(list.files('', pattern = paste0('*', date, '.tif$'), full.names = T))\n",
    "  for(maskname in masks) {\n",
    "    datelist <- strsplit(strsplit(maskname, split ='*_mask.tif$')[[1]], split = '/')[[1]]\n",
    "    datemask <- datelist[[length(datelist)]]\n",
    "    if(datemask == date) {\n",
    "      mask <- raster(maskname)\n",
    "    }\n",
    "  }\n",
    "  new_data <- c()\n",
    "  for(i in 1:nlayers(data)) {\n",
    "    mask <- resample(mask, data[[i]])\n",
    "    temp <- overlay(data[[i]], mask, fun = function(layer, m) {ifelse(m == 1, NA, layer)})\n",
    "    new_data <- append(new_data, temp)\n",
    "  }\n",
    "  temp_st <- stack(new_data)\n",
    "  counter <- counter + 1\n",
    "  print(paste('created file', as.character(counter)))\n",
    "  no_cs <- append(no_cs, temp_st)\n",
    "}\n",
    "rm(counter, temp_st, temp, mask, t, data, i, new_data, datemask, maskname, datelist, date, dates)\n",
    "\n",
    "# select the image with least clouds\n",
    "best_sent <- stack('')\n",
    "# needs to be adapted according to the number of sentinel scenes used!\n",
    "stitched <- overlay(no_cs[[1]], no_cs[[2]], no_cs[[3]], no_cs[[4]], no_cs[[5]], no_cs[[6]], fun = function(a, b, c, d, e, f) {\n",
    "  ifelse(is.na(ifelse(is.na(ifelse(is.na(ifelse(is.na(ifelse(is.na(a), b, a)), c, a)), d, a)), e, a)), f, a)})\n",
    "rm(no_cs)\n",
    "\n",
    "stitched_final <- overlay(stitched, best_sent, fun = function(a, b) {ifelse(is.na(a), yes = b, no = a)}, forcefun = T)\n",
    "plotRGB(stitched_final, 8, 4, 3, stretch = 'hist')\n",
    "rm(stitched, best_sent)\n",
    "\n",
    "writeRaster(stitched_final, '', format = 'GTiff', overwrite = T)"
   ]
  }
 ],
 "metadata": {
  "kernelspec": {
   "display_name": "R",
   "language": "R",
   "name": "ir"
  },
  "language_info": {
   "codemirror_mode": "r",
   "file_extension": ".r",
   "mimetype": "text/x-r-source",
   "name": "R",
   "pygments_lexer": "r",
   "version": "3.4.3"
  }
 },
 "nbformat": 4,
 "nbformat_minor": 2
}
