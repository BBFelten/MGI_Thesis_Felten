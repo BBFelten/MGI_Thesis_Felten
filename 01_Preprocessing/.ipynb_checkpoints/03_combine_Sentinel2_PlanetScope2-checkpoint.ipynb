{
 "cells": [
  {
   "cell_type": "markdown",
   "metadata": {},
   "source": [
    "# Prepare segmentation input\n",
    "Apply the Touzi edge enhancement filter from the Orfeo toolbox to Sentinel 2 and PlanetScope 2. If you want to include texture metrics, download a Sentinel 1 GRD data product of the research area. Open it in SNAP, create a subset of the research area, and apply the $calibrate$, $multilook$, and $terrain$ $correction$ tools from the S1 toolbox. Do not apply speckle filtering. Compute the first principal component of both look directions. Then, compute the grey level co-occurrence matrix and save the result as Geotiff."
   ]
  },
  {
   "cell_type": "code",
   "execution_count": null,
   "metadata": {},
   "outputs": [],
   "source": [
    "### Create input datasets for image segmentation ###\n",
    "### Datasets that did not yield satisfactory results are outcommented ###\n",
    "\n",
    "library(RStoolbox)\n",
    "library(raster)\n",
    "library(satellite)\n",
    "\n",
    "# Pre-processed Senitnel 2\n",
    "s2 <- stack('')\n",
    "writeRaster(s2, '', format = 'GTiff', overwrite = T)\n",
    "\n",
    "# Gray Level Co_Ocurrence matrix derived from Sentinel 1\n",
    "#s1 <- stack('')\n",
    "#s1 <- projectRaster(s1, s2)\n",
    "#s1 <- crop(s1, s2@extent)\n",
    "#writeRaster(s1, '', format = 'GTiff', overwrite = T)\n",
    "\n",
    "# Touzi filtered (edge enhanced) Sentinel 2\n",
    "s2touzi <- raster('')\n",
    "\n",
    "# Use only contrast, correlation, energy, homogeneity\n",
    "#s1s2 <- stack(s2, s1[[1]], s1[[10]], s1[[5]], s1[[3]])\n",
    "#writeRaster(s1s2, '', format = 'GTiff', overwrite = T)\n",
    "\n",
    "# Indices from http://www.sentinel-hub.com/eotaxonomy/indices\n",
    "#ndbi <- (s2[[12]] - s2[[8]])/(s2[[12]] + s2[[8]])\n",
    "#mndwi <- (s2[[3]] - s2[[12]])/(s2[[3]] + s2[[12]])\n",
    "#ndvi <- (s2[[8]] - s2[[4]]) / (s2[[8]] + s2[[4]])\n",
    "\n",
    "# Use only contrast, correlation, energy, homogeneity\n",
    "#s1s2_r <- stack(ndbi, mndwi, ndvi, s1[[1]], s1[[10]], s1[[5]], s1[[3]])\n",
    "#writeRaster(s1s2_r, '', format = 'GTiff', overwrite = T)\n",
    "\n",
    "# Pre-processed PlanetScope 2\n",
    "planet <- stack('')\n",
    "#writeRaster(planet, '', format = 'GTiff', overwrite = T)\n",
    "planet_pca <- rasterPCA(planet, nComp = 1)\n",
    "pan <- planet_pca$map\n",
    "# Combine Sentinel 2 and PlanetScope 2\n",
    "# Choose method 'pca' as it allows input with different value range and with no designated RGB bands\n",
    "s2_pan <- panSharpen(s2, pan, pc = 1, method = 'pca')\n",
    "writeRaster(s2_pan, '', format = 'GTiff', overwrite = T)\n",
    "\n",
    "#s1s2pl <- panSharpen(s1s2_r, pan, pc = 1, method = 'pca')\n",
    "#writeRaster(s1s2pl, '', format = 'GTiff', overwrite = T)\n",
    "\n",
    "# Edge enhanced PlanetScope 2 (Touzi filter)\n",
    "planettouzi <- raster('')\n",
    "planet_ndvi <- (planet[[4]] - planet[[3]])/(planet[[4]] + planet[[1]])\n",
    "\n",
    "#s2_ee <- stack(s2, s2touzi)\n",
    "#writeRaster(s2_ee, '', format = 'GTiff', overwrite = T)\n",
    "\n",
    "planet_out <- stack(planet, planet_ndvi, planettouzi)\n",
    "writeRaster(planet_out, '', format = 'GTiff', overwrite = T)"
   ]
  }
 ],
 "metadata": {
  "kernelspec": {
   "display_name": "R",
   "language": "R",
   "name": "ir"
  },
  "language_info": {
   "codemirror_mode": "r",
   "file_extension": ".r",
   "mimetype": "text/x-r-source",
   "name": "R",
   "pygments_lexer": "r",
   "version": "3.4.3"
  }
 },
 "nbformat": 4,
 "nbformat_minor": 2
}
