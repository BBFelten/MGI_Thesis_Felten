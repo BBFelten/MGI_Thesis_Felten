{
 "cells": [
  {
   "cell_type": "code",
   "execution_count": null,
   "metadata": {},
   "outputs": [],
   "source": [
    "### Create mosaic of different PlanetScope 2 scenes and crop it to the area of interest ###\n",
    "\n",
    "library(raster)\n",
    "library(rgdal)\n",
    "\n",
    "# shapefile containing the study area\n",
    "area <- readOGR('')\n",
    "# folder with raw scenes\n",
    "in_files <- list.files('', pattern = '.tif$', full.names = T, recursive = T)\n",
    "\n",
    "ras_files <- c()\n",
    "for(file in in_files) {\n",
    "  temp <- stack(file)\n",
    "  origin(temp) <- c(0, 0)\n",
    "  ras_files <- append(ras_files, temp)\n",
    "}\n",
    "ras_files.mosaicargs <- ras_files\n",
    "ras_files.mosaicargs$fun <- mean\n",
    "out <- do.call(mosaic, ras_files.mosaicargs)\n",
    "out <- projectRaster(out, crs = area@proj4string)\n",
    "out <- crop(out, area)\n",
    "#plotRGB(out, 3, 2, 1, stretch = 'hist')\n",
    "writeRaster(out, '', format = 'GTiff', overwrite = T)"
   ]
  }
 ],
 "metadata": {
  "kernelspec": {
   "display_name": "R",
   "language": "R",
   "name": "ir"
  },
  "language_info": {
   "codemirror_mode": "r",
   "file_extension": ".r",
   "mimetype": "text/x-r-source",
   "name": "R",
   "pygments_lexer": "r",
   "version": "3.4.3"
  }
 },
 "nbformat": 4,
 "nbformat_minor": 2
}
