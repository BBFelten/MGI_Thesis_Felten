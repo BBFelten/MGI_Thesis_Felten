{
 "cells": [
  {
   "cell_type": "code",
   "execution_count": null,
   "metadata": {},
   "outputs": [],
   "source": [
    "### Prepare endmembers for OTB spectral unmixing ###\n",
    "\n",
    "library(raster)\n",
    "library(rgdal)\n",
    "\n",
    "# Pure endmember polygons or points\n",
    "roi <- readOGR('')\n",
    "# RS data to be classified\n",
    "data <- stack('')\n",
    "\n",
    "roi_data <- extract(data, roi, fun = mean)\n",
    "\n",
    "bands <- c()\n",
    "for(i in 1:nlayers(data)) {\n",
    "  b <- raster(matrix(roi_data[,i]))\n",
    "  bands <- append(bands, b)\n",
    "}\n",
    "roi_r <- stack(bands)\n",
    "writeRaster(roi_r, 't', format = 'GTiff', overwrite = T)"
   ]
  }
 ],
 "metadata": {
  "kernelspec": {
   "display_name": "R",
   "language": "R",
   "name": "ir"
  },
  "language_info": {
   "codemirror_mode": "r",
   "file_extension": ".r",
   "mimetype": "text/x-r-source",
   "name": "R",
   "pygments_lexer": "r",
   "version": "3.4.3"
  }
 },
 "nbformat": 4,
 "nbformat_minor": 2
}
