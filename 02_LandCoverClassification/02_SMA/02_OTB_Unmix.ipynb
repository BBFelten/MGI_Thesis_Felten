{
 "cells": [
  {
   "cell_type": "code",
   "execution_count": null,
   "metadata": {},
   "outputs": [],
   "source": [
    "### Unmix image using prepared raster endmembers ###\n",
    "### Source: https://www.orfeo-toolbox.org/CookBook/Applications/app_HyperspectralUnmixing.html ###\n",
    "\n",
    "import sys\n",
    "# Adapt paths\n",
    "# Path to the OTB Python folder\n",
    "sys.path.append('')\n",
    "import os\n",
    "otbpath = os.environ.get('OTB_APPLICATION_PATH', None)\n",
    "# Path to OTB applications\n",
    "if otbpath is None:\n",
    "    os.environ['OTB_APPLICATION_PATH']=''\n",
    "\n",
    "import otbApplication\n",
    "\n",
    "# The following line creates an instance of the HyperspectralUnmixing application\n",
    "HyperspectralUnmixing = otbApplication.Registry.CreateApplication(\"HyperspectralUnmixing\")\n",
    "\n",
    "# The following lines set all the application parameters:\n",
    "# Input to be classified\n",
    "HyperspectralUnmixing.SetParameterString('in', '')\n",
    "# ROI as raster stack \n",
    "HyperspectralUnmixing.SetParameterString('ie', '')\n",
    "# Output filename\n",
    "HyperspectralUnmixing.SetParameterString('out', '.tif')\n",
    "HyperspectralUnmixing.SetParameterString('ua', 'ncls')\n",
    "\n",
    "# The following line executes the application\n",
    "HyperspectralUnmixing.ExecuteAndWriteOutput()"
   ]
  }
 ],
 "metadata": {
  "kernelspec": {
   "display_name": "Python 3",
   "language": "python",
   "name": "python3"
  },
  "language_info": {
   "codemirror_mode": {
    "name": "ipython",
    "version": 3
   },
   "file_extension": ".py",
   "mimetype": "text/x-python",
   "name": "python",
   "nbconvert_exporter": "python",
   "pygments_lexer": "ipython3",
   "version": "3.6.4"
  }
 },
 "nbformat": 4,
 "nbformat_minor": 2
}
