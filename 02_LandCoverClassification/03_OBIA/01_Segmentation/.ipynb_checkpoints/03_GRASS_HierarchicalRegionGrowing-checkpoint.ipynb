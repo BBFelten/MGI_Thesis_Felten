{
 "cells": [
  {
   "cell_type": "code",
   "execution_count": null,
   "metadata": {},
   "outputs": [],
   "source": [
    "### This will only work in a GRASS environment! Either copy script to GRASS Python editor or create a virtual environment. ###\n",
    "\n",
    "import grass.script as gscript\n",
    "\n",
    "def import_input(path_filename, mapname):\n",
    "    gscript.run_command('r.in.gdal', input = path_filename, output = mapname, flags = 'o', overwrite = True)\n",
    "    gscript.run_command('g.region', rast = mapname + '.1', flags = 'p')\n",
    "\n",
    "def create_segments(groupname, t):\n",
    "    gscript.run_command('i.segment.hierarchical', group = groupname, output = 'out', threshold = t, minsize = 10, overwrite = True)\n",
    "\n",
    "def export_as_vector(r_name, v_name, outfolder):\n",
    "    gscript.run_command('r.to.vect', input = r_name, output = r_name + '_v', type = 'area', column = 'id', overwrite = True)\n",
    "    gscript.run_command('v.out.ogr', input = r_name + '_v', output_layer = v_name, output = outfolder, type = 'area', format = 'ESRI_Shapefile', overwrite = True)\n",
    "\n",
    "if __name__ == '__main__':\n",
    "    # Input raster\n",
    "    data = ''\n",
    "    outputpath = ''\n",
    "    filename = data.split('.')[0].split('/')[-1]\n",
    "    import_input(data, filename)\n",
    "    thresh = 0.1\n",
    "    create_segments(filename, thresh)\n",
    "    export_as_vector('', filename, outputpath)"
   ]
  }
 ],
 "metadata": {
  "kernelspec": {
   "display_name": "Python 3",
   "language": "python",
   "name": "python3"
  },
  "language_info": {
   "codemirror_mode": {
    "name": "ipython",
    "version": 3
   },
   "file_extension": ".py",
   "mimetype": "text/x-python",
   "name": "python",
   "nbconvert_exporter": "python",
   "pygments_lexer": "ipython3",
   "version": "3.6.4"
  }
 },
 "nbformat": 4,
 "nbformat_minor": 2
}
