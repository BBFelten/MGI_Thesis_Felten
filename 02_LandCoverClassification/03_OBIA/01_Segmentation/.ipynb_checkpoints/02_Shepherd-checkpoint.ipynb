{
 "cells": [
  {
   "cell_type": "code",
   "execution_count": null,
   "metadata": {},
   "outputs": [],
   "source": [
    "### Perform Shepherd segmentation (based on k-means clustering) ###\n",
    "\n",
    "from rsgislib import segmentation\n",
    "from rsgislib import imagecalc\n",
    "import subprocess\n",
    "\n",
    "# Input raster\n",
    "in_file = ''\n",
    "# Folder where all outputs (including intermediate output) are stored\n",
    "out_path = ''\n",
    "\n",
    "filename = in_file.split('.')[0].split('/')[-1]\n",
    "kea_file = out_path + '/' + filename + '.kea'\n",
    "\n",
    "cmd = ['gdal_translate', '-of', 'KEA', in_file, kea_file]\n",
    "subprocess.run(cmd)\n",
    "\n",
    "inImage = kea_file\n",
    "outputClumps = out_path + '/' + 'outputClumps_test'\n",
    "outMatrixFile = out_path + '/' + 'testClustMatrix'\n",
    "numClusters = 100\n",
    "kMeansFileZones = out_path + '/' + 'kMeansFileZones'\n",
    "gdalFormat = 'GTiff'\n",
    "kMeansFileZonesNoSgls = out_path + '/' + 'kMeansFileZonesNoSgls'\n",
    "kMeansFileZonesNoSglsTmp = out_path + '/' + 'kMeansFileZonesNoSglsTmp'\n",
    "initClumpsFile = out_path + '/' + 'initClumpsFile'\n",
    "elimClumpsFile = out_path + '/' + 'elimClumpsFile'\n",
    "minPxls = 1000\n",
    "distThres = 10\n",
    "outputClumps = out_path + '/' + filename + '_sh'\n",
    "outputClumps_v = out_path + '/' + filename + '_sh.shp'\n",
    "\n",
    "### Source: http://rsgislib.org/2_1/rsgislib_segmentation.html ###\n",
    "# Perform k-means clustering (subsampling data to reduce memory usage).\n",
    "imagecalc.kMeansClustering(inImage, outMatrixFile, numClusters, 500, 10, True, 0.0025, imagecalc.INITCLUSTER_DIAGONAL_FULL_ATTACH)\n",
    "\n",
    "# Apply to image\n",
    "segmentation.labelPixelsFromClusterCentres(inImage, kMeansFileZones, outMatrixFile+str(\".gmtxt\"), True, gdalFormat)\n",
    "\n",
    "# Eliminate single pixels\n",
    "segmentation.eliminateSinglePixels(inImage, kMeansFileZones, kMeansFileZonesNoSgls, kMeansFileZonesNoSglsTmp, gdalFormat, False, True)\n",
    "\n",
    "# Perform clump\n",
    "segmentation.clump(kMeansFileZonesNoSgls, initClumpsFile, gdalFormat, False, 0)\n",
    "\n",
    "# Eliminate small pixels\n",
    "segmentation.rmSmallClumpsStepwise(inImage, initClumpsFile, elimClumpsFile, gdalFormat, False, \"\", False, False, minPxls, distThres)\n",
    "\n",
    "# Relabel clumps\n",
    "segmentation.relabelClumps(elimClumpsFile, outputClumps, gdalFormat, False)\n",
    "\n",
    "ClumpstoVector = ['gdal_polygonize.py', '-f', 'ESRI Shapefile', outputClumps, outputClumps_v]\n",
    "subprocess.run(ClumpstoVector)"
   ]
  }
 ],
 "metadata": {
  "kernelspec": {
   "display_name": "Python 3",
   "language": "python",
   "name": "python3"
  },
  "language_info": {
   "codemirror_mode": {
    "name": "ipython",
    "version": 3
   },
   "file_extension": ".py",
   "mimetype": "text/x-python",
   "name": "python",
   "nbconvert_exporter": "python",
   "pygments_lexer": "ipython3",
   "version": "3.6.4"
  }
 },
 "nbformat": 4,
 "nbformat_minor": 2
}
