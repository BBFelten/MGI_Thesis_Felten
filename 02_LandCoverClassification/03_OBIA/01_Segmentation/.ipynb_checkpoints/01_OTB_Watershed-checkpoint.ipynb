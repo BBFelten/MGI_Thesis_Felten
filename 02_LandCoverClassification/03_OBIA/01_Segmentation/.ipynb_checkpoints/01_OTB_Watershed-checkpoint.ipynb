{
 "cells": [
  {
   "cell_type": "code",
   "execution_count": null,
   "metadata": {},
   "outputs": [],
   "source": [
    "### Large Scale tilewise segmentation with the watershed segmentation tool, Orfeo toolbox ###\n",
    "### This can be adapted to use meanshift or morphological-based segmentation ###\n",
    "### Source: https://www.orfeo-toolbox.org/CookBook/Applications/app_Segmentation.html ###\n",
    "\n",
    "# Adapt paths\n",
    "import sys\n",
    "# Path to the OTB Python folder\n",
    "sys.path.append('')\n",
    "import os\n",
    "otbpath = os.environ.get('OTB_APPLICATION_PATH', None)\n",
    "# Path to OTB applications\n",
    "if otbpath is None:\n",
    "    os.environ['OTB_APPLICATION_PATH']=''\n",
    "\n",
    "import otbApplication\n",
    "\n",
    "Segmentation = otbApplication.Registry.CreateApplication(\"Segmentation\")\n",
    "\n",
    "# The following lines set all the application parameters:\n",
    "# Input raster\n",
    "Segmentation.SetParameterString('in', '')\n",
    "Segmentation.SetParameterString('mode', 'vector')\n",
    "# Output filename\n",
    "Segmentation.SetParameterString('mode.vector.out', '')\n",
    "# Adapt to available memory; this is suitable for 8GB RAM\n",
    "Segmentation.SetParameterString('mode.vector.tilesize', '1024')\n",
    "# Alternatives: Meanshift, morphological based - adapt parameters accordingly\n",
    "Segmentation.SetParameterString('filter', 'watershed')\n",
    "Segmentation.SetParameterString('filter.watershed.threshold', '0.01')\n",
    "Segmentation.SetParameterString('filter.watershed.level', '0.1')\n",
    "\n",
    "# The following line executes the application\n",
    "Segmentation.ExecuteAndWriteOutput()"
   ]
  }
 ],
 "metadata": {
  "kernelspec": {
   "display_name": "Python 3",
   "language": "python",
   "name": "python3"
  },
  "language_info": {
   "codemirror_mode": {
    "name": "ipython",
    "version": 3
   },
   "file_extension": ".py",
   "mimetype": "text/x-python",
   "name": "python",
   "nbconvert_exporter": "python",
   "pygments_lexer": "ipython3",
   "version": "3.6.4"
  }
 },
 "nbformat": 4,
 "nbformat_minor": 2
}
