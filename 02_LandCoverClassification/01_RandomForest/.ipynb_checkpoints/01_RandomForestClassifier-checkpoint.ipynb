{
 "cells": [
  {
   "cell_type": "code",
   "execution_count": null,
   "metadata": {},
   "outputs": [],
   "source": [
    "### Baseline pixel-wise classification with random forest. ###\n",
    "\n",
    "library(raster)\n",
    "library(rgdal)\n",
    "library(randomForest)\n",
    "\n",
    "randomforest_classifier <- function(training_path, data_path, out_path) {\n",
    "  name <- strsplit(strsplit(data_path, split = '.tif')[[1]][[1]], split = '/')[[1]]\n",
    "  filename <- name[[length(name)]]\n",
    "  data <- stack(data_path)\n",
    "  training <- readOGR(training_path)\n",
    "  training_r <- rasterize(training, data[[1]], field = 'id')\n",
    "  names(training_r) <- 'class'\n",
    "  data_training <- mask(data, training_r)\n",
    "  trainingbrick <- addLayer(data_training, training_r)\n",
    "  valuetable <- getValues(trainingbrick)\n",
    "  valuetable <- na.omit(valuetable)\n",
    "  valuetable <- as.data.frame(valuetable)\n",
    "  \n",
    "  modelRF <- randomForest(x = valuetable[ ,c(1:length(data@layers))], y = valuetable$class, importance = TRUE, ntree = 500)\n",
    "  classified <- predict(data, model = modelRF, na.rm = TRUE)\n",
    "  writeRaster(classified, 'GTiff', filename = paste0(out_path, '/', filename, '_rf'), overwrite = T)\n",
    "}\n",
    "\n",
    "# training areas\n",
    "roi <- ''\n",
    "# Images that are to be classified\n",
    "input <- ''\n",
    "# Folder where the result is stored\n",
    "outfolder <- ''\n",
    "randomforest_classifier(roi, input, outfolder)"
   ]
  }
 ],
 "metadata": {
  "kernelspec": {
   "display_name": "R",
   "language": "R",
   "name": "ir"
  },
  "language_info": {
   "codemirror_mode": "r",
   "file_extension": ".r",
   "mimetype": "text/x-r-source",
   "name": "R",
   "pygments_lexer": "r",
   "version": "3.4.3"
  }
 },
 "nbformat": 4,
 "nbformat_minor": 2
}
