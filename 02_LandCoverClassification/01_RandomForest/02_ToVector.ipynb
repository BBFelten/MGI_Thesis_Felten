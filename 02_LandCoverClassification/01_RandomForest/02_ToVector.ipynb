{
 "cells": [
  {
   "cell_type": "code",
   "execution_count": null,
   "metadata": {},
   "outputs": [],
   "source": [
    "### Transform random forest classification results (or other .tif files in a folder) to shapefiles. Faster than the respective function in R. ### \n",
    "### adapted from: http://pcjericks.github.io/py-gdalogr-cookbook/raster_layers.html#polygonize-a-raster-band ###\n",
    "\n",
    "from osgeo import gdal, ogr, osr\n",
    "import os, fnmatch\n",
    "\n",
    "# Path to folder containing .tif raster files. The result is stored in the same location.\n",
    "in_path = ''\n",
    "\n",
    "files = os.listdir(in_path)\n",
    "in_rasters = []\n",
    "pattern = \"*.tif\"  \n",
    "for entry in files:  \n",
    "    if fnmatch.fnmatch(entry, pattern):\n",
    "            filename = in_path + '/' + entry\n",
    "            in_rasters.append(filename)\n",
    "\n",
    "#  get raster datasource\n",
    "for raster in in_rasters:\n",
    "    my_raster = gdal.Open(raster)\n",
    "    my_band = my_raster.GetRasterBand(1)\n",
    "    proj = my_raster.GetProjection() \n",
    "    src = osr.SpatialReference()\n",
    "    src.ImportFromWkt(proj)\n",
    "    \n",
    "    #  create output datasource\n",
    "    my_layername = raster.split('.tif')[0]\n",
    "    drv = ogr.GetDriverByName('ESRI Shapefile')\n",
    "    dst_ds = drv.CreateDataSource(my_layername + '.shp')\n",
    "    dst_layer = dst_ds.CreateLayer(my_layername, srs = src)\n",
    "    \n",
    "    newField = ogr.FieldDefn('id', ogr.OFTInteger)\n",
    "    dst_layer.CreateField(newField)\n",
    "            \n",
    "    gdal.Polygonize(my_band, None, dst_layer, 0, [], callback = None)\n",
    "    \n",
    "    dst_ds.Destroy()\n",
    "    my_raster = None\n",
    "    my_band = None"
   ]
  }
 ],
 "metadata": {
  "kernelspec": {
   "display_name": "Python 3",
   "language": "python",
   "name": "python3"
  },
  "language_info": {
   "codemirror_mode": {
    "name": "ipython",
    "version": 3
   },
   "file_extension": ".py",
   "mimetype": "text/x-python",
   "name": "python",
   "nbconvert_exporter": "python",
   "pygments_lexer": "ipython3",
   "version": "3.6.4"
  }
 },
 "nbformat": 4,
 "nbformat_minor": 2
}
