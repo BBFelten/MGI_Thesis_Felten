{
 "cells": [
  {
   "cell_type": "code",
   "execution_count": null,
   "metadata": {},
   "outputs": [],
   "source": [
    "### Initial classification based on thresholding of the MBI, NDVI, NDWI, RI, and black tophat to separate urban features. ###\n",
    "\n",
    "library(raster)\n",
    "\n",
    "# Load results of tophat operations and respective pre-processed remote sensing data\n",
    "th <- raster('')\n",
    "bh <- raster('')\n",
    "satdata <- stack('')\n",
    "\n",
    "m <- matrix(data = 1, nrow = 3, ncol = 3)\n",
    "\n",
    "# Planet\n",
    "ndvi <- (satdata[[4]] - satdata[[3]]) / (satdata[[4]] + satdata[[3]])\n",
    "redness <- (satdata[[3]] - satdata[[2]]) / (satdata[[3]] + satdata[[2]])\n",
    "ndwi <- (satdata[[2]] - satdata[[4]]) / (satdata[[2]] + satdata[[4]])\n",
    "\n",
    "# Sentinel 2\n",
    "ndvi <- (satdata[[8]] - satdata[[4]]) / (satdata[[8]] + satdata[[4]])\n",
    "redness <- (satdata[[4]] - satdata[[3]]) / (satdata[[4]] + satdata[[3]])\n",
    "ndwi <- (satdata[[3]] - satdata[[8]]) / (satdata[[3]] + satdata[[8]])\n",
    "\n",
    "# Planet\n",
    "test <- th\n",
    "test[] <- 0\n",
    "test[th >= 600 & ndvi < 0.1] <- 1\n",
    "test[test == 1 & redness >= 0] <- 2\n",
    "test[bh >= 1000 & ndvi < 0.1] <- 3\n",
    "test[ndvi >= 0.1] <- 4\n",
    "\n",
    "# This file will be converted to vector and used for feature classification\n",
    "writeRaster(test, '', format = 'GTiff', overwrite = T)\n",
    "\n",
    "# This file will be used to add additional information for feature classification\n",
    "datafile <- stack(ndvi, redness, ndwi)\n",
    "writeRaster(datafile, '', format = 'GTiff', overwrite = T)\n",
    "\n",
    "#Sentinel 2\n",
    "test <- th\n",
    "test[] <- 0\n",
    "test[th >= 10 & ndvi < 0.3] <- 1\n",
    "test[test == 1 & redness > 0.1] <- 2\n",
    "test[bh >= 100 & ndvi < 0.3] <- 3\n",
    "test[ndvi >= 0.3] <- 4\n",
    "\n",
    "# This file will be converted to vector and used for feature classification\n",
    "writeRaster(test, '', format = 'GTiff', overwrite = T)\n",
    "\n",
    "# This file will be used to add additional information for feature classification\n",
    "datafile <- stack(ndvi, redness, ndwi)\n",
    "writeRaster(datafile, '', format = 'GTiff', overwrite = T)"
   ]
  }
 ],
 "metadata": {
  "kernelspec": {
   "display_name": "R",
   "language": "R",
   "name": "ir"
  },
  "language_info": {
   "codemirror_mode": "r",
   "file_extension": ".r",
   "mimetype": "text/x-r-source",
   "name": "R",
   "pygments_lexer": "r",
   "version": "3.4.3"
  }
 },
 "nbformat": 4,
 "nbformat_minor": 2
}
